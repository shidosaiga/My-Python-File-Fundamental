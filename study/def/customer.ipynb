{
 "cells": [
  {
   "cell_type": "code",
   "execution_count": 1,
   "metadata": {},
   "outputs": [
    {
     "name": "stdout",
     "output_type": "stream",
     "text": [
      "\n",
      "\n",
      "custumer name apirak age is 20\n",
      "\n",
      "custumer name adef age is 20\n",
      "\n",
      "['apirak', 'adef']\n",
      "[20, 20]\n"
     ]
    }
   ],
   "source": [
    "customer_list = []\n",
    "customer_age_list = []\n",
    "\n",
    "def InputCustomer(list):\n",
    "    for count in range(list):\n",
    "        customer_list.append(input(f\"Customer number {count} name is :\"))\n",
    "        customer_age_list.append(int(input(f\"Customer number {count}age is :\")))\n",
    "    print(\"\\n\")\n",
    "\n",
    "def ShowData():\n",
    "    for data_name,data_age in zip(customer_list,customer_age_list):    \n",
    "            print(f\"custumer name {data_name} age is {data_age}\\n\")\n",
    "    \n",
    "    \n",
    "amount_customer = int(input(\"\"))\n",
    "InputCustomer(amount_customer)\n",
    "ShowData()\n",
    "print(customer_list)\n",
    "print(customer_age_list)\n",
    "\n"
   ]
  }
 ],
 "metadata": {
  "kernelspec": {
   "display_name": "Python 3",
   "language": "python",
   "name": "python3"
  },
  "language_info": {
   "codemirror_mode": {
    "name": "ipython",
    "version": 3
   },
   "file_extension": ".py",
   "mimetype": "text/x-python",
   "name": "python",
   "nbconvert_exporter": "python",
   "pygments_lexer": "ipython3",
   "version": "3.10.7"
  },
  "orig_nbformat": 4
 },
 "nbformat": 4,
 "nbformat_minor": 2
}

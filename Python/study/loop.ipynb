{
 "cells": [
  {
   "cell_type": "code",
   "execution_count": 2,
   "metadata": {},
   "outputs": [
    {
     "name": "stdout",
     "output_type": "stream",
     "text": [
      "finally finished\n",
      "0 x 0 0\n",
      "0 x 1 0\n",
      "0 x 2 0\n",
      "0 x 3 0\n",
      "0 x 4 0\n",
      "0 x 5 0\n",
      "0 x 6 0\n",
      "0 x 7 0\n",
      "0 x 8 0\n",
      "0 x 9 0\n",
      "0 x 10 0\n",
      "0 x 11 0\n",
      "0 x 12 0\n",
      "finally finished\n",
      "1 x 0 0\n",
      "1 x 1 1\n",
      "1 x 2 2\n",
      "1 x 3 3\n",
      "1 x 4 4\n",
      "1 x 5 5\n",
      "1 x 6 6\n",
      "1 x 7 7\n",
      "1 x 8 8\n",
      "1 x 9 9\n",
      "1 x 10 10\n",
      "1 x 11 11\n",
      "1 x 12 12\n",
      "finally finished\n",
      "2 x 0 0\n",
      "2 x 1 2\n",
      "2 x 2 4\n",
      "2 x 3 6\n",
      "2 x 4 8\n",
      "2 x 5 10\n",
      "2 x 6 12\n",
      "2 x 7 14\n",
      "2 x 8 16\n",
      "2 x 9 18\n",
      "2 x 10 20\n",
      "2 x 11 22\n",
      "2 x 12 24\n",
      "finally finished\n",
      "3 x 0 0\n",
      "3 x 1 3\n",
      "3 x 2 6\n",
      "3 x 3 9\n",
      "3 x 4 12\n",
      "3 x 5 15\n",
      "3 x 6 18\n",
      "3 x 7 21\n",
      "3 x 8 24\n",
      "3 x 9 27\n",
      "3 x 10 30\n",
      "3 x 11 33\n",
      "3 x 12 36\n",
      "finally finished\n",
      "4 x 0 0\n",
      "4 x 1 4\n",
      "4 x 2 8\n",
      "4 x 3 12\n",
      "4 x 4 16\n",
      "4 x 5 20\n",
      "4 x 6 24\n",
      "4 x 7 28\n",
      "4 x 8 32\n",
      "4 x 9 36\n",
      "4 x 10 40\n",
      "4 x 11 44\n",
      "4 x 12 48\n",
      "finally finished\n",
      "5 x 0 0\n",
      "5 x 1 5\n",
      "5 x 2 10\n",
      "5 x 3 15\n",
      "5 x 4 20\n",
      "5 x 5 25\n",
      "5 x 6 30\n",
      "5 x 7 35\n",
      "5 x 8 40\n",
      "5 x 9 45\n",
      "5 x 10 50\n",
      "5 x 11 55\n",
      "5 x 12 60\n"
     ]
    }
   ],
   "source": [
    "result1 = int(input(\"Enter your number to calculate :\"))\n",
    "result2 = int(input(\"Enter your number to calculate :\"))\n",
    "\n",
    "for i in range(result1):\n",
    "    print(\"finally finished\")\n",
    "    for r in range(result2):\n",
    "        print(f\"{i} x {r}\",i * r)\n",
    "        "
   ]
  }
 ],
 "metadata": {
  "kernelspec": {
   "display_name": "Python 3",
   "language": "python",
   "name": "python3"
  },
  "language_info": {
   "codemirror_mode": {
    "name": "ipython",
    "version": 3
   },
   "file_extension": ".py",
   "mimetype": "text/x-python",
   "name": "python",
   "nbconvert_exporter": "python",
   "pygments_lexer": "ipython3",
   "version": "3.10.7"
  },
  "orig_nbformat": 4,
  "vscode": {
   "interpreter": {
    "hash": "f1ca3050595bec200230cdd1f5b250209deffbb16696a29d27faa6d1f2128651"
   }
  }
 },
 "nbformat": 4,
 "nbformat_minor": 2
}

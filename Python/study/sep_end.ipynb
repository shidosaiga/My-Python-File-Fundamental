{
 "cells": [
  {
   "cell_type": "code",
   "execution_count": 1,
   "metadata": {},
   "outputs": [
    {
     "name": "stdout",
     "output_type": "stream",
     "text": [
      "one, two, three, four\n",
      "www.developer.com\n",
      "tarvel in :  1 jan 2023\n"
     ]
    }
   ],
   "source": [
    "a = 'one'\n",
    "b = 'two'\n",
    "c = 'three'\n",
    "d = 'four'\n",
    "\n",
    "print(a, b, c, d, sep=', ')\n",
    "\n",
    "a = 'www'\n",
    "b = 'developer'\n",
    "c = 'com'\n",
    "\n",
    "\n",
    "print(a, b, c,  sep='.')\n",
    "\n",
    "\n",
    "d = '1'\n",
    "m = 'jan'\n",
    "y = 2023\n",
    "\n",
    "\n",
    "print('tarvel in : ', end=' ')\n",
    "print(d, m, y,  sep=' ')\n",
    "\n"
   ]
  }
 ],
 "metadata": {
  "kernelspec": {
   "display_name": "Python 3",
   "language": "python",
   "name": "python3"
  },
  "language_info": {
   "codemirror_mode": {
    "name": "ipython",
    "version": 3
   },
   "file_extension": ".py",
   "mimetype": "text/x-python",
   "name": "python",
   "nbconvert_exporter": "python",
   "pygments_lexer": "ipython3",
   "version": "3.10.7"
  },
  "orig_nbformat": 4,
  "vscode": {
   "interpreter": {
    "hash": "f1ca3050595bec200230cdd1f5b250209deffbb16696a29d27faa6d1f2128651"
   }
  }
 },
 "nbformat": 4,
 "nbformat_minor": 2
}

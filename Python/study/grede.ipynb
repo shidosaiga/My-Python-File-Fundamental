{
 "cells": [
  {
   "cell_type": "code",
   "execution_count": 2,
   "metadata": {},
   "outputs": [
    {
     "name": "stdout",
     "output_type": "stream",
     "text": [
      "enter your score to calculate\n",
      "your score total is :98.0\n",
      "Grade : A+\n"
     ]
    }
   ],
   "source": [
    "print(\"enter your score to calculate\")\n",
    "math = int(input(\"input you Math score: \"))\n",
    "science = int(input(\"input you Science score: \"))\n",
    "computer = int(input(\"input you Computer score: \"))\n",
    "text = \"Grade\"\n",
    "\n",
    "sum = math+science+computer\n",
    "avg = sum/3\n",
    "print (f\"your score total is :{avg}\")\n",
    "\n",
    "\n",
    "if avg >= 90 :\n",
    "    print(f\"{text} : A+\")\n",
    "elif avg >=80 and avg <= 95:\n",
    "    print(f\"{text} : A\")\n",
    "elif avg >=70 and avg <= 79:\n",
    "    print(f\"{text} : B\")\n",
    "elif avg >=60 and avg <= 69:\n",
    "    print(f\"{text} : C\")\n",
    "elif avg >=50 and avg <= 59:\n",
    "    print(f\"{text} : D\")\n",
    "# elif avg <= 49:\n",
    "#     print(f\"{text} : F\")       \n",
    "else:\n",
    "    print(f\"{text} : F\") \n",
    "        \n",
    "        \n",
    "        \n",
    "        \n",
    "    "
   ]
  }
 ],
 "metadata": {
  "kernelspec": {
   "display_name": "Python 3",
   "language": "python",
   "name": "python3"
  },
  "language_info": {
   "codemirror_mode": {
    "name": "ipython",
    "version": 3
   },
   "file_extension": ".py",
   "mimetype": "text/x-python",
   "name": "python",
   "nbconvert_exporter": "python",
   "pygments_lexer": "ipython3",
   "version": "3.10.7"
  },
  "orig_nbformat": 4,
  "vscode": {
   "interpreter": {
    "hash": "f1ca3050595bec200230cdd1f5b250209deffbb16696a29d27faa6d1f2128651"
   }
  }
 },
 "nbformat": 4,
 "nbformat_minor": 2
}

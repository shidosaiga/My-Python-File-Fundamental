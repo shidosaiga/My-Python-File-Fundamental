{
 "cells": [
  {
   "cell_type": "code",
   "execution_count": 4,
   "metadata": {},
   "outputs": [
    {
     "name": "stdout",
     "output_type": "stream",
     "text": [
      "{'name': 'John', 'age': 36}\n",
      "<class 'dict'>\n",
      "['apple', 'banana', 'cherry']\n",
      "<class 'list'>\n"
     ]
    }
   ],
   "source": [
    "x = {\"name\" : \"John\", \"age\" : 36}\n",
    "\n",
    "print (x)\n",
    "print(type(x))\n",
    "\n",
    "y = list((\"apple\", \"banana\", \"cherry\"))\n",
    "print (y)\n",
    "print(type(y))\n",
    "\n"
   ]
  },
  {
   "attachments": {},
   "cell_type": "markdown",
   "metadata": {},
   "source": [
    "x = \"Hello World\"\t                                    str\t\n",
    "x = 20\t                                                int\t\n",
    "x = 20.5\t                                            float\t\n",
    "x = 1j\t                                                complex\t\n",
    "x = [\"apple\", \"banana\", \"cherry\"]\t                    list\t\n",
    "x = (\"apple\", \"banana\", \"cherry\")\t                    tuple\t\n",
    "x = range(6)\t                                        range\t\n",
    "x = {\"name\" : \"John\", \"age\" : 36}\t                    dict\t\n",
    "x = {\"apple\", \"banana\", \"cherry\"}\t                    set\t\n",
    "x = frozenset({\"apple\", \"banana\", \"cherry\"})\t        frozenset\t\n",
    "x = True\t                                            bool\t\n",
    "x = b\"Hello\"\t                                        bytes\t\n",
    "x = bytearray(5)\t                                    bytearray\t\n",
    "x = memoryview(bytes(5))\t                            memoryview\t\n",
    "x = None \t                                            NoneType\n"
   ]
  }
 ],
 "metadata": {
  "kernelspec": {
   "display_name": "Python 3",
   "language": "python",
   "name": "python3"
  },
  "language_info": {
   "codemirror_mode": {
    "name": "ipython",
    "version": 3
   },
   "file_extension": ".py",
   "mimetype": "text/x-python",
   "name": "python",
   "nbconvert_exporter": "python",
   "pygments_lexer": "ipython3",
   "version": "3.10.7"
  },
  "orig_nbformat": 4,
  "vscode": {
   "interpreter": {
    "hash": "f1ca3050595bec200230cdd1f5b250209deffbb16696a29d27faa6d1f2128651"
   }
  }
 },
 "nbformat": 4,
 "nbformat_minor": 2
}
